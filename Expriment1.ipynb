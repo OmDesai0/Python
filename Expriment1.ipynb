{
  "nbformat": 4,
  "nbformat_minor": 0,
  "metadata": {
    "colab": {
      "provenance": [],
      "authorship_tag": "ABX9TyPb128MHivCWT5Hssk7q5HE",
      "include_colab_link": true
    },
    "kernelspec": {
      "name": "python3",
      "display_name": "Python 3"
    },
    "language_info": {
      "name": "python"
    }
  },
  "cells": [
    {
      "cell_type": "markdown",
      "metadata": {
        "id": "view-in-github",
        "colab_type": "text"
      },
      "source": [
        "<a href=\"https://colab.research.google.com/github/OmDesai0/Python/blob/main/Expriment1.ipynb\" target=\"_parent\"><img src=\"https://colab.research.google.com/assets/colab-badge.svg\" alt=\"Open In Colab\"/></a>"
      ]
    },
    {
      "cell_type": "code",
      "execution_count": 1,
      "metadata": {
        "colab": {
          "base_uri": "https://localhost:8080/"
        },
        "id": "T57wgxa1qd3f",
        "outputId": "5375fc64-fc57-45d0-c38e-a5502ddcd609"
      },
      "outputs": [
        {
          "output_type": "stream",
          "name": "stdout",
          "text": [
            "Arithmetic Operators:\n",
            "10 + 5 = 15\n",
            "10 - 5 = 5\n",
            "10 * 5 = 50\n",
            "10 / 5 = 2.0\n",
            "10 % 5 = 0\n",
            "10 ** 5 = 100000\n",
            "10 // 5 = 2\n",
            "\n",
            "Logical Operators:\n",
            "True and False = False\n",
            "True or False = True\n",
            "not True = False\n",
            "\n",
            "Bitwise Operators:\n",
            "6 & 3 = 2\n",
            "6 | 3 = 7\n",
            "6 ^ 3 = 5\n",
            "~6 = -7\n",
            "6 << 1 = 12\n",
            "6 >> 1 = 3\n",
            "\n",
            "Identity Operators:\n",
            "m is n: False\n",
            "m is o: True\n",
            "m is not n: True\n"
          ]
        }
      ],
      "source": [
        "# Arithmetic Operators\n",
        "a = 10\n",
        "b = 5\n",
        "\n",
        "print(\"Arithmetic Operators:\")\n",
        "print(f\"{a} + {b} = {a + b}\")  # Addition\n",
        "print(f\"{a} - {b} = {a - b}\")  # Subtraction\n",
        "print(f\"{a} * {b} = {a * b}\")  # Multiplication\n",
        "print(f\"{a} / {b} = {a / b}\")  # Division\n",
        "print(f\"{a} % {b} = {a % b}\")  # Modulus\n",
        "print(f\"{a} ** {b} = {a ** b}\")  # Exponentiation\n",
        "print(f\"{a} // {b} = {a // b}\")  # Floor Division\n",
        "\n",
        "print(\"\\nLogical Operators:\")\n",
        "x = True\n",
        "y = False\n",
        "print(f\"{x} and {y} = {x and y}\")  # Logical AND\n",
        "print(f\"{x} or {y} = {x or y}\")    # Logical OR\n",
        "print(f\"not {x} = {not x}\")        # Logical NOT\n",
        "\n",
        "print(\"\\nBitwise Operators:\")\n",
        "p = 6  # 110 in binary\n",
        "q = 3  # 011 in binary\n",
        "print(f\"{p} & {q} = {p & q}\")  # Bitwise AND\n",
        "print(f\"{p} | {q} = {p | q}\")  # Bitwise OR\n",
        "print(f\"{p} ^ {q} = {p ^ q}\")  # Bitwise XOR\n",
        "print(f\"~{p} = {~p}\")          # Bitwise NOT\n",
        "print(f\"{p} << 1 = {p << 1}\")  # Left Shift\n",
        "print(f\"{p} >> 1 = {p >> 1}\")  # Right Shift\n",
        "\n",
        "print(\"\\nIdentity Operators:\")\n",
        "m = [1, 2, 3]\n",
        "n = [1, 2, 3]\n",
        "o = m  # Assigning reference of m to o\n",
        "\n",
        "print(f\"m is n: {m is n}\")  # False (Different objects in memory)\n",
        "print(f\"m is o: {m is o}\")  # True (Same object in memory)\n",
        "print(f\"m is not n: {m is not n}\")  # True"
      ]
    },
    {
      "cell_type": "code",
      "source": [
        "side = float(input(\"Enter the side length of the square: \"))\n",
        "\n",
        "area = side * side\n",
        "perimeter = 4 * side\n",
        "\n",
        "print(f\"Area: {area}\")\n",
        "print(f\"Perimeter: {perimeter}\")"
      ],
      "metadata": {
        "colab": {
          "base_uri": "https://localhost:8080/"
        },
        "id": "vsH6PI7Uqpeq",
        "outputId": "d5e68744-ac3c-4f9d-cbec-2303d41e24fc"
      },
      "execution_count": 2,
      "outputs": [
        {
          "output_type": "stream",
          "name": "stdout",
          "text": [
            "Enter the side length of the square: 4\n",
            "Area: 16.0\n",
            "Perimeter: 16.0\n"
          ]
        }
      ]
    },
    {
      "cell_type": "code",
      "source": [
        "a = int(input(\"Enter first number: \"))\n",
        "b = int(input(\"Enter second number: \"))\n",
        "\n",
        "print(f\"\\nBefore swapping: a = {a}, b = {b}\")\n",
        "\n",
        "# Swapping using a temporary variable\n",
        "temp = a\n",
        "a = b\n",
        "b = temp\n",
        "\n",
        "print(f\"After swapping: a = {a}, b = {b}\")"
      ],
      "metadata": {
        "colab": {
          "base_uri": "https://localhost:8080/"
        },
        "id": "EofFx7_yqxUb",
        "outputId": "6def9649-8632-48dc-bfb7-41a174455131"
      },
      "execution_count": 3,
      "outputs": [
        {
          "output_type": "stream",
          "name": "stdout",
          "text": [
            "Enter first number: 10\n",
            "Enter second number: 20\n",
            "\n",
            "Before swapping: a = 10, b = 20\n",
            "After swapping: a = 20, b = 10\n"
          ]
        }
      ]
    },
    {
      "cell_type": "code",
      "source": [
        "num = int(input(\"Enter a number to check: \"))\n",
        "if num % 2==0:\n",
        "  print(\"Number is even\")\n",
        "else:\n",
        "  print(\"Number is odd\")"
      ],
      "metadata": {
        "colab": {
          "base_uri": "https://localhost:8080/"
        },
        "id": "p9kJ2Ae7q5EJ",
        "outputId": "1c7525f1-3f65-40e1-b25f-5428a5d1a494"
      },
      "execution_count": 4,
      "outputs": [
        {
          "output_type": "stream",
          "name": "stdout",
          "text": [
            "Enter a number to check: 12\n",
            "Number is even\n"
          ]
        }
      ]
    }
  ]
}