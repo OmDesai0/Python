{
  "nbformat": 4,
  "nbformat_minor": 0,
  "metadata": {
    "colab": {
      "provenance": [],
      "authorship_tag": "ABX9TyM7KRSurF3fme40ifexaPXR",
      "include_colab_link": true
    },
    "kernelspec": {
      "name": "python3",
      "display_name": "Python 3"
    },
    "language_info": {
      "name": "python"
    }
  },
  "cells": [
    {
      "cell_type": "markdown",
      "metadata": {
        "id": "view-in-github",
        "colab_type": "text"
      },
      "source": [
        "<a href=\"https://colab.research.google.com/github/OmDesai0/Python/blob/main/Expriment5.ipynb\" target=\"_parent\"><img src=\"https://colab.research.google.com/assets/colab-badge.svg\" alt=\"Open In Colab\"/></a>"
      ]
    },
    {
      "cell_type": "code",
      "execution_count": 1,
      "metadata": {
        "colab": {
          "base_uri": "https://localhost:8080/"
        },
        "id": "djQJ-CUSsSrk",
        "outputId": "8fde6382-2fce-4f47-bc55-3a8d92873c21"
      },
      "outputs": [
        {
          "output_type": "stream",
          "name": "stdout",
          "text": [
            "Original tuple: ('apple', 'banana', 'cherry')\n",
            "Accessed tuple at index 1 is banana\n",
            "Updated tuple: ('apple', 'banana', 'pear')\n",
            "Deleting tuple.\n"
          ]
        }
      ],
      "source": [
        "thistuple=(\"apple\",\"banana\",\"cherry\")\n",
        "print(\"Original tuple:\",thistuple)\n",
        "print(\"Accessed tuple at index 1 is\",thistuple[1])\n",
        "mytuple=list(thistuple)\n",
        "mytuple[2]=\"pear\"\n",
        "thistuple=tuple(mytuple)\n",
        "print(\"Updated tuple:\",thistuple)\n",
        "print(\"Deleting tuple.\")\n",
        "del thistuple"
      ]
    },
    {
      "cell_type": "code",
      "source": [
        "x=(1,2,3,4,2,5,2)\n",
        "print(\"Tuple:\",x)\n",
        "for i in x:\n",
        "  if x.count(i)-1:\n",
        "    print(\"REPEATED!\")\n",
        "count=x.count(i)\n",
        "print(\"Item of the tuple is repeated\",count,\"times.\")"
      ],
      "metadata": {
        "colab": {
          "base_uri": "https://localhost:8080/"
        },
        "id": "fMarBHmWseUV",
        "outputId": "43410822-417d-4a25-e360-779067f1e73f"
      },
      "execution_count": 2,
      "outputs": [
        {
          "output_type": "stream",
          "name": "stdout",
          "text": [
            "Tuple: (1, 2, 3, 4, 2, 5, 2)\n",
            "REPEATED!\n",
            "REPEATED!\n",
            "REPEATED!\n",
            "Item of the tuple is repeated 3 times.\n"
          ]
        }
      ]
    },
    {
      "cell_type": "code",
      "source": [
        "x=(2,4,6,1,9,5,8)\n",
        "print(\"Tuple:\",x)\n",
        "min(x)\n",
        "max(x)\n",
        "print(\"Minimum no. in tuple:\",min(x))\n",
        "print(\"Maximum no. in tuple:\",max(x))"
      ],
      "metadata": {
        "colab": {
          "base_uri": "https://localhost:8080/"
        },
        "id": "XIs-PBznsiEz",
        "outputId": "d94ad9aa-353f-4124-a866-07bdcd357895"
      },
      "execution_count": 3,
      "outputs": [
        {
          "output_type": "stream",
          "name": "stdout",
          "text": [
            "Tuple: (2, 4, 6, 1, 9, 5, 8)\n",
            "Minimum no. in tuple: 1\n",
            "Maximum no. in tuple: 9\n"
          ]
        }
      ]
    },
    {
      "cell_type": "code",
      "source": [
        "x=(\"apple\",\"banana\",\"cherry\",\"melon\",\"mango\")\n",
        "print(\"Tuple:\",x)\n",
        "if \"cherry\" in x:\n",
        "  print(\"Element exists in tuple!\")\n",
        "else:\n",
        "  print(\"Element not found!\")"
      ],
      "metadata": {
        "colab": {
          "base_uri": "https://localhost:8080/"
        },
        "id": "HdB6ZjDCsnrc",
        "outputId": "ac29b6fd-40a7-4447-9883-ed26584d1f3c"
      },
      "execution_count": 4,
      "outputs": [
        {
          "output_type": "stream",
          "name": "stdout",
          "text": [
            "Tuple: ('apple', 'banana', 'cherry', 'melon', 'mango')\n",
            "Element exists in tuple!\n"
          ]
        }
      ]
    },
    {
      "cell_type": "code",
      "source": [
        "x=(1,2,3,4,5)\n",
        "print(\"Tuple:\",x)\n",
        "def ReversedTuple(tup):\n",
        "  return tup[::-1]\n",
        "print(\"Reversed tuple:\",ReversedTuple(x))"
      ],
      "metadata": {
        "colab": {
          "base_uri": "https://localhost:8080/"
        },
        "id": "xEZbk5iZstVa",
        "outputId": "3e0aa325-3401-40b5-97df-c11e5d6aaa5b"
      },
      "execution_count": 5,
      "outputs": [
        {
          "output_type": "stream",
          "name": "stdout",
          "text": [
            "Tuple: (1, 2, 3, 4, 5)\n",
            "Reversed tuple: (5, 4, 3, 2, 1)\n"
          ]
        }
      ]
    }
  ]
}