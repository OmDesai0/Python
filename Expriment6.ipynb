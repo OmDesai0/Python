{
  "nbformat": 4,
  "nbformat_minor": 0,
  "metadata": {
    "colab": {
      "provenance": [],
      "authorship_tag": "ABX9TyOk+lbOBBVM3IESOT0n78VI",
      "include_colab_link": true
    },
    "kernelspec": {
      "name": "python3",
      "display_name": "Python 3"
    },
    "language_info": {
      "name": "python"
    }
  },
  "cells": [
    {
      "cell_type": "markdown",
      "metadata": {
        "id": "view-in-github",
        "colab_type": "text"
      },
      "source": [
        "<a href=\"https://colab.research.google.com/github/OmDesai0/Python/blob/main/Expriment6.ipynb\" target=\"_parent\"><img src=\"https://colab.research.google.com/assets/colab-badge.svg\" alt=\"Open In Colab\"/></a>"
      ]
    },
    {
      "cell_type": "code",
      "execution_count": 1,
      "metadata": {
        "colab": {
          "base_uri": "https://localhost:8080/"
        },
        "id": "UJ-mhaVIt3B_",
        "outputId": "4321dfaf-c25b-4f73-b1fe-e557394e356a"
      },
      "outputs": [
        {
          "output_type": "stream",
          "name": "stdout",
          "text": [
            "{'Brand': 'Porsche', 'Model': '911 GT3', 'Year': 1973}\n",
            "Porsche\n",
            "{'Brand': 'Porsche', 'Model': '911 GT3', 'Year': 1973, 'Color': 'Magenta'}\n",
            "{'Brand': 'Porsche', 'Model': '911 GT3', 'Color': 'Magenta'}\n",
            "{'Brand': 'McLaren', 'Model': 'F1', 'Year': 1992}\n",
            "{'Brand': 'McLaren', 'Model': 'F1', 'Color': 'Magenta', 'Year': 1992}\n",
            "dict_values(['McLaren', 'F1', 'Magenta', 1992])\n"
          ]
        }
      ],
      "source": [
        "d1={\n",
        "    \"Brand\":\"Porsche\",\n",
        "    \"Model\":\"911 GT3\",\n",
        "    \"Year\":1973\n",
        "}\n",
        "print(d1)\n",
        "print(d1[\"Brand\"])\n",
        "d1.update({\"Color\":\"Magenta\"})\n",
        "print(d1)\n",
        "del d1[\"Year\"]\n",
        "print(d1)\n",
        "\n",
        "d2={\n",
        "    \"Brand\":\"McLaren\",\n",
        "    \"Model\":\"F1\",\n",
        "    \"Year\":1992\n",
        "}\n",
        "print(d2)\n",
        "d1.update(d2)\n",
        "print(d1)\n",
        "print(d1.values())"
      ]
    },
    {
      "cell_type": "code",
      "source": [
        "d1={\n",
        "    \"x\":10,\n",
        "    \"y\":10,\n",
        "    \"z\":5\n",
        "}\n",
        "print(d1)\n",
        "result=sum(d1.values())\n",
        "print(result)"
      ],
      "metadata": {
        "colab": {
          "base_uri": "https://localhost:8080/"
        },
        "id": "Z7Wc8TJruDYA",
        "outputId": "110bf70d-b7c0-4cf4-db1a-13b7b24ad39b"
      },
      "execution_count": 2,
      "outputs": [
        {
          "output_type": "stream",
          "name": "stdout",
          "text": [
            "{'x': 10, 'y': 10, 'z': 5}\n",
            "25\n"
          ]
        }
      ]
    },
    {
      "cell_type": "code",
      "source": [
        "def sort_dict_by_value(d, reverse = False):\n",
        "    return dict(sorted(d.items(), key = lambda x: x[1], reverse = reverse))\n",
        "print(\"Original dictionary elements:\")\n",
        "colors = {'Red': 1, 'Green': 3, 'Black': 5, 'White': 2, 'Pink': 4}\n",
        "print(colors)\n",
        "print(\"\\nSort (ascending) the said dictionary elements by value:\")\n",
        "print(sort_dict_by_value(colors))\n",
        "print(\"\\nSort (descending) the said dictionary elements by value:\")\n",
        "print(sort_dict_by_value(colors, True))"
      ],
      "metadata": {
        "colab": {
          "base_uri": "https://localhost:8080/"
        },
        "id": "l7dX_4J2uHW5",
        "outputId": "a4771986-9389-4aa1-d6a1-370d2818252f"
      },
      "execution_count": 3,
      "outputs": [
        {
          "output_type": "stream",
          "name": "stdout",
          "text": [
            "Original dictionary elements:\n",
            "{'Red': 1, 'Green': 3, 'Black': 5, 'White': 2, 'Pink': 4}\n",
            "\n",
            "Sort (ascending) the said dictionary elements by value:\n",
            "{'Red': 1, 'White': 2, 'Green': 3, 'Pink': 4, 'Black': 5}\n",
            "\n",
            "Sort (descending) the said dictionary elements by value:\n",
            "{'Black': 5, 'Pink': 4, 'Green': 3, 'White': 2, 'Red': 1}\n"
          ]
        }
      ]
    },
    {
      "cell_type": "code",
      "source": [
        "dict1 = {1:10, 2:20}\n",
        "dict2 = {3:30, 4:40}\n",
        "dict3 = {5:50,6:60}\n",
        "dict4 = {}\n",
        "for d in (dict1, dict2, dict3):\n",
        "    dict4.update(d)\n",
        "print(dict4)"
      ],
      "metadata": {
        "colab": {
          "base_uri": "https://localhost:8080/"
        },
        "id": "A4-objDpuMs3",
        "outputId": "13bf349f-cdc1-43c8-c3b3-62546245f9b9"
      },
      "execution_count": 4,
      "outputs": [
        {
          "output_type": "stream",
          "name": "stdout",
          "text": [
            "{1: 10, 2: 20, 3: 30, 4: 40, 5: 50, 6: 60}\n"
          ]
        }
      ]
    },
    {
      "cell_type": "code",
      "source": [
        "d1 = {'a': 100, 'b': 200, 'c':300}\n",
        "d2 = {'a': 300, 'b': 200, 'd':400}\n",
        "for key in dict2:\n",
        "    if key in dict1:\n",
        "        dict2[key] = dict2[key] + dict1[key]\n",
        "    else:\n",
        "        pass\n",
        "\n",
        "print(dict2)"
      ],
      "metadata": {
        "colab": {
          "base_uri": "https://localhost:8080/"
        },
        "id": "HIdkHr78pUeb",
        "outputId": "5992b070-722a-425d-b8a6-eac3d8327d89"
      },
      "execution_count": null,
      "outputs": [
        {
          "output_type": "stream",
          "name": "stdout",
          "text": [
            "{3: 30, 4: 40}\n"
          ]
        }
      ]
    },
    {
      "cell_type": "code",
      "source": [
        "L = [{\"V\":\"S001\"}, {\"V\": \"S002\"}, {\"VI\": \"S001\"}, {\"VI\": \"S005\"},{\"VII\":\"S005\"}, {\"V\":\"S009\"}, {\"VIII\":\"S007\"}]\n",
        "print(\"Original List: \", L)\n",
        "u_value = set(val for dic in L for val in dic.values())\n",
        "print(\"Unique Values: \", u_value)"
      ],
      "metadata": {
        "colab": {
          "base_uri": "https://localhost:8080/"
        },
        "id": "uDwHWs9VpYZF",
        "outputId": "357f950b-6058-44d8-9b58-bdf3caabdece"
      },
      "execution_count": null,
      "outputs": [
        {
          "output_type": "stream",
          "name": "stdout",
          "text": [
            "Original List:  [{'V': 'S001'}, {'V': 'S002'}, {'VI': 'S001'}, {'VI': 'S005'}, {'VII': 'S005'}, {'V': 'S009'}, {'VIII': 'S007'}]\n",
            "Unique Values:  {'S007', 'S005', 'S009', 'S001', 'S002'}\n"
          ]
        }
      ]
    }
  ]
}