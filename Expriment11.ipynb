{
  "nbformat": 4,
  "nbformat_minor": 0,
  "metadata": {
    "colab": {
      "provenance": [],
      "authorship_tag": "ABX9TyNjCF55QgnxIKdN90mZ3HGN",
      "include_colab_link": true
    },
    "kernelspec": {
      "name": "python3",
      "display_name": "Python 3"
    },
    "language_info": {
      "name": "python"
    }
  },
  "cells": [
    {
      "cell_type": "markdown",
      "metadata": {
        "id": "view-in-github",
        "colab_type": "text"
      },
      "source": [
        "<a href=\"https://colab.research.google.com/github/OmDesai0/Python/blob/main/Expriment11.ipynb\" target=\"_parent\"><img src=\"https://colab.research.google.com/assets/colab-badge.svg\" alt=\"Open In Colab\"/></a>"
      ]
    },
    {
      "cell_type": "code",
      "source": [
        "import pandas as pd\n",
        "import numpy as np\n",
        "import matplotlib.pyplot as plt\n",
        "import seaborn as sns\n",
        "\n",
        "from sklearn.model_selection import train_test_split\n",
        "from sklearn.preprocessing import StandardScaler\n",
        "from sklearn.metrics import accuracy_score, classification_report, confusion_matrix\n",
        "from sklearn.linear_model import LogisticRegression\n",
        "from sklearn.ensemble import RandomForestClassifier\n",
        "from sklearn.neighbors import KNeighborsClassifier\n",
        "from sklearn.svm import SVC"
      ],
      "metadata": {
        "id": "XH0wc2Pvc_Gi"
      },
      "execution_count": null,
      "outputs": []
    },
    {
      "cell_type": "code",
      "source": [
        "file_path = '/content/pressure_disease.csv'\n",
        "df = pd.read_csv(file_path)"
      ],
      "metadata": {
        "id": "tK0QCoxSdD6k"
      },
      "execution_count": null,
      "outputs": []
    },
    {
      "cell_type": "code",
      "source": [
        "print(\"Columns:\", df.columns)\n",
        "print(df.head())"
      ],
      "metadata": {
        "colab": {
          "base_uri": "https://localhost:8080/"
        },
        "id": "JEtZUcX5dKJq",
        "outputId": "5f2fbfe1-78e8-495c-dc49-c5ebea496d2c"
      },
      "execution_count": null,
      "outputs": [
        {
          "output_type": "stream",
          "name": "stdout",
          "text": [
            "Columns: Index(['Unnamed: 0', 'Number', 'Gelecouse_rate', 'Systolic_BP', 'Diastolic_BP',\n",
            "       'Heart_Rate', 'BMI', 'Target'],\n",
            "      dtype='object')\n",
            "   Unnamed: 0  Number  Gelecouse_rate  Systolic_BP  Diastolic_BP  Heart_Rate  \\\n",
            "0           0      39       28.670664          123           108          87   \n",
            "1           1      65       31.765049          164            61          94   \n",
            "2           2      44       43.618569          165            73          68   \n",
            "3           3      46       41.488319           85            97          93   \n",
            "4           4      42       45.136762          124            51          69   \n",
            "\n",
            "   BMI  Target  \n",
            "0   34       1  \n",
            "1   23       1  \n",
            "2   21       1  \n",
            "3   24       1  \n",
            "4   28       0  \n"
          ]
        }
      ]
    },
    {
      "cell_type": "code",
      "source": [
        "print(\"\\nMissing values:\\n\", df.isnull().sum())"
      ],
      "metadata": {
        "colab": {
          "base_uri": "https://localhost:8080/"
        },
        "id": "8djdDhDudWOQ",
        "outputId": "4e38b6d6-50b0-466b-88f7-5da12d6ac608"
      },
      "execution_count": null,
      "outputs": [
        {
          "output_type": "stream",
          "name": "stdout",
          "text": [
            "\n",
            "Missing values:\n",
            " Unnamed: 0        0\n",
            "Number            0\n",
            "Gelecouse_rate    0\n",
            "Systolic_BP       0\n",
            "Diastolic_BP      0\n",
            "Heart_Rate        0\n",
            "BMI               0\n",
            "Target            0\n",
            "dtype: int64\n"
          ]
        }
      ]
    },
    {
      "cell_type": "code",
      "source": [
        "df.dropna(inplace=True)"
      ],
      "metadata": {
        "id": "9okChRwAdaAq"
      },
      "execution_count": null,
      "outputs": []
    },
    {
      "cell_type": "code",
      "source": [
        "target_column = 'Heart_Rate'\n",
        "X = df.drop(columns=[target_column])\n",
        "y = df[target_column]"
      ],
      "metadata": {
        "id": "zVMwi3LfddMM"
      },
      "execution_count": null,
      "outputs": []
    },
    {
      "cell_type": "code",
      "source": [
        "X_train, X_test, y_train, y_test = train_test_split(X, y, test_size=0.2, random_state=42)"
      ],
      "metadata": {
        "id": "4p0wk1k2eM2q"
      },
      "execution_count": null,
      "outputs": []
    },
    {
      "cell_type": "code",
      "source": [
        "scaler = StandardScaler()\n",
        "X_train = scaler.fit_transform(X_train)\n",
        "X_test = scaler.transform(X_test)"
      ],
      "metadata": {
        "id": "G86cRbEYeQNm"
      },
      "execution_count": null,
      "outputs": []
    },
    {
      "cell_type": "code",
      "source": [
        "models = {\n",
        "    'Logistic Regression': LogisticRegression(),\n",
        "    'Random Forest': RandomForestClassifier(random_state=42),\n",
        "    'K-Nearest Neighbors': KNeighborsClassifier(),\n",
        "    'Support Vector Machine': SVC()\n",
        "}"
      ],
      "metadata": {
        "id": "fpqcyk4VeS37"
      },
      "execution_count": null,
      "outputs": []
    },
    {
      "cell_type": "code",
      "source": [
        "results = {}\n",
        "\n",
        "for name, model in models.items():\n",
        "    model.fit(X_train, y_train)\n",
        "    y_pred = model.predict(X_test)\n",
        "    acc = accuracy_score(y_test, y_pred)\n",
        "    results[name] = acc\n",
        "    print(f\"\\n=== {name} ===\")\n",
        "    print(\"Accuracy:\", acc)\n",
        "    print(\"Classification Report:\\n\", classification_report(y_test, y_pred))\n",
        "    print(\"Confusion Matrix:\\n\", confusion_matrix(y_test, y_pred))\n"
      ],
      "metadata": {
        "colab": {
          "base_uri": "https://localhost:8080/"
        },
        "id": "e2t26ZF1eov_",
        "outputId": "f2b04eb6-fbda-465e-b1fe-f6f7a4c68249"
      },
      "execution_count": null,
      "outputs": [
        {
          "output_type": "stream",
          "name": "stdout",
          "text": [
            "\n",
            "=== Logistic Regression ===\n",
            "Accuracy: 0.0\n",
            "Classification Report:\n",
            "               precision    recall  f1-score   support\n",
            "\n",
            "          50       0.00      0.00      0.00       1.0\n",
            "          51       0.00      0.00      0.00       0.0\n",
            "          52       0.00      0.00      0.00       1.0\n",
            "          53       0.00      0.00      0.00       1.0\n",
            "          54       0.00      0.00      0.00       0.0\n",
            "          57       0.00      0.00      0.00       1.0\n",
            "          58       0.00      0.00      0.00       2.0\n",
            "          60       0.00      0.00      0.00       1.0\n",
            "          61       0.00      0.00      0.00       0.0\n",
            "          62       0.00      0.00      0.00       3.0\n",
            "          63       0.00      0.00      0.00       1.0\n",
            "          64       0.00      0.00      0.00       1.0\n",
            "          66       0.00      0.00      0.00       0.0\n",
            "          67       0.00      0.00      0.00       4.0\n",
            "          68       0.00      0.00      0.00       0.0\n",
            "          69       0.00      0.00      0.00       0.0\n",
            "          70       0.00      0.00      0.00       1.0\n",
            "          72       0.00      0.00      0.00       1.0\n",
            "          73       0.00      0.00      0.00       3.0\n",
            "          74       0.00      0.00      0.00       5.0\n",
            "          75       0.00      0.00      0.00       2.0\n",
            "          76       0.00      0.00      0.00       1.0\n",
            "          78       0.00      0.00      0.00       0.0\n",
            "          79       0.00      0.00      0.00       1.0\n",
            "          82       0.00      0.00      0.00       1.0\n",
            "          83       0.00      0.00      0.00       1.0\n",
            "          84       0.00      0.00      0.00       1.0\n",
            "          86       0.00      0.00      0.00       1.0\n",
            "          90       0.00      0.00      0.00       1.0\n",
            "          92       0.00      0.00      0.00       2.0\n",
            "          93       0.00      0.00      0.00       0.0\n",
            "          94       0.00      0.00      0.00       1.0\n",
            "          95       0.00      0.00      0.00       1.0\n",
            "          97       0.00      0.00      0.00       0.0\n",
            "          98       0.00      0.00      0.00       1.0\n",
            "\n",
            "    accuracy                           0.00      40.0\n",
            "   macro avg       0.00      0.00      0.00      40.0\n",
            "weighted avg       0.00      0.00      0.00      40.0\n",
            "\n",
            "Confusion Matrix:\n",
            " [[0 0 0 ... 0 0 0]\n",
            " [0 0 0 ... 0 0 0]\n",
            " [0 0 0 ... 0 0 0]\n",
            " ...\n",
            " [0 0 0 ... 0 1 0]\n",
            " [0 0 0 ... 0 0 0]\n",
            " [0 0 0 ... 0 0 0]]\n"
          ]
        },
        {
          "output_type": "stream",
          "name": "stderr",
          "text": [
            "/usr/local/lib/python3.11/dist-packages/sklearn/metrics/_classification.py:1565: UndefinedMetricWarning: Precision is ill-defined and being set to 0.0 in labels with no predicted samples. Use `zero_division` parameter to control this behavior.\n",
            "  _warn_prf(average, modifier, f\"{metric.capitalize()} is\", len(result))\n",
            "/usr/local/lib/python3.11/dist-packages/sklearn/metrics/_classification.py:1565: UndefinedMetricWarning: Recall is ill-defined and being set to 0.0 in labels with no true samples. Use `zero_division` parameter to control this behavior.\n",
            "  _warn_prf(average, modifier, f\"{metric.capitalize()} is\", len(result))\n",
            "/usr/local/lib/python3.11/dist-packages/sklearn/metrics/_classification.py:1565: UndefinedMetricWarning: Precision is ill-defined and being set to 0.0 in labels with no predicted samples. Use `zero_division` parameter to control this behavior.\n",
            "  _warn_prf(average, modifier, f\"{metric.capitalize()} is\", len(result))\n",
            "/usr/local/lib/python3.11/dist-packages/sklearn/metrics/_classification.py:1565: UndefinedMetricWarning: Recall is ill-defined and being set to 0.0 in labels with no true samples. Use `zero_division` parameter to control this behavior.\n",
            "  _warn_prf(average, modifier, f\"{metric.capitalize()} is\", len(result))\n",
            "/usr/local/lib/python3.11/dist-packages/sklearn/metrics/_classification.py:1565: UndefinedMetricWarning: Precision is ill-defined and being set to 0.0 in labels with no predicted samples. Use `zero_division` parameter to control this behavior.\n",
            "  _warn_prf(average, modifier, f\"{metric.capitalize()} is\", len(result))\n",
            "/usr/local/lib/python3.11/dist-packages/sklearn/metrics/_classification.py:1565: UndefinedMetricWarning: Recall is ill-defined and being set to 0.0 in labels with no true samples. Use `zero_division` parameter to control this behavior.\n",
            "  _warn_prf(average, modifier, f\"{metric.capitalize()} is\", len(result))\n"
          ]
        },
        {
          "output_type": "stream",
          "name": "stdout",
          "text": [
            "\n",
            "=== Random Forest ===\n",
            "Accuracy: 0.0\n",
            "Classification Report:\n",
            "               precision    recall  f1-score   support\n",
            "\n",
            "          50       0.00      0.00      0.00       1.0\n",
            "          52       0.00      0.00      0.00       1.0\n",
            "          53       0.00      0.00      0.00       1.0\n",
            "          54       0.00      0.00      0.00       0.0\n",
            "          55       0.00      0.00      0.00       0.0\n",
            "          57       0.00      0.00      0.00       1.0\n",
            "          58       0.00      0.00      0.00       2.0\n",
            "          60       0.00      0.00      0.00       1.0\n",
            "          61       0.00      0.00      0.00       0.0\n",
            "          62       0.00      0.00      0.00       3.0\n",
            "          63       0.00      0.00      0.00       1.0\n",
            "          64       0.00      0.00      0.00       1.0\n",
            "          66       0.00      0.00      0.00       0.0\n",
            "          67       0.00      0.00      0.00       4.0\n",
            "          68       0.00      0.00      0.00       0.0\n",
            "          70       0.00      0.00      0.00       1.0\n",
            "          72       0.00      0.00      0.00       1.0\n",
            "          73       0.00      0.00      0.00       3.0\n",
            "          74       0.00      0.00      0.00       5.0\n",
            "          75       0.00      0.00      0.00       2.0\n",
            "          76       0.00      0.00      0.00       1.0\n",
            "          77       0.00      0.00      0.00       0.0\n",
            "          78       0.00      0.00      0.00       0.0\n",
            "          79       0.00      0.00      0.00       1.0\n",
            "          82       0.00      0.00      0.00       1.0\n",
            "          83       0.00      0.00      0.00       1.0\n",
            "          84       0.00      0.00      0.00       1.0\n",
            "          86       0.00      0.00      0.00       1.0\n",
            "          90       0.00      0.00      0.00       1.0\n",
            "          92       0.00      0.00      0.00       2.0\n",
            "          94       0.00      0.00      0.00       1.0\n",
            "          95       0.00      0.00      0.00       1.0\n",
            "          97       0.00      0.00      0.00       0.0\n",
            "          98       0.00      0.00      0.00       1.0\n",
            "\n",
            "    accuracy                           0.00      40.0\n",
            "   macro avg       0.00      0.00      0.00      40.0\n",
            "weighted avg       0.00      0.00      0.00      40.0\n",
            "\n",
            "Confusion Matrix:\n",
            " [[0 0 0 ... 0 0 0]\n",
            " [0 0 0 ... 0 0 0]\n",
            " [0 0 0 ... 0 0 1]\n",
            " ...\n",
            " [0 0 0 ... 0 0 0]\n",
            " [0 0 0 ... 0 0 0]\n",
            " [0 0 0 ... 0 0 0]]\n",
            "\n",
            "=== K-Nearest Neighbors ===\n",
            "Accuracy: 0.05\n",
            "Classification Report:\n",
            "               precision    recall  f1-score   support\n",
            "\n",
            "          50       0.00      0.00      0.00         1\n",
            "          51       0.00      0.00      0.00         0\n",
            "          52       0.00      0.00      0.00         1\n",
            "          53       0.00      0.00      0.00         1\n",
            "          54       0.00      0.00      0.00         0\n",
            "          57       0.00      0.00      0.00         1\n",
            "          58       0.00      0.00      0.00         2\n",
            "          59       0.00      0.00      0.00         0\n",
            "          60       0.20      1.00      0.33         1\n",
            "          61       0.00      0.00      0.00         0\n",
            "          62       0.33      0.33      0.33         3\n",
            "          63       0.00      0.00      0.00         1\n",
            "          64       0.00      0.00      0.00         1\n",
            "          66       0.00      0.00      0.00         0\n",
            "          67       0.00      0.00      0.00         4\n",
            "          68       0.00      0.00      0.00         0\n",
            "          69       0.00      0.00      0.00         0\n",
            "          70       0.00      0.00      0.00         1\n",
            "          72       0.00      0.00      0.00         1\n",
            "          73       0.00      0.00      0.00         3\n",
            "          74       0.00      0.00      0.00         5\n",
            "          75       0.00      0.00      0.00         2\n",
            "          76       0.00      0.00      0.00         1\n",
            "          79       0.00      0.00      0.00         1\n",
            "          82       0.00      0.00      0.00         1\n",
            "          83       0.00      0.00      0.00         1\n",
            "          84       0.00      0.00      0.00         1\n",
            "          86       0.00      0.00      0.00         1\n",
            "          90       0.00      0.00      0.00         1\n",
            "          92       0.00      0.00      0.00         2\n",
            "          94       0.00      0.00      0.00         1\n",
            "          95       0.00      0.00      0.00         1\n",
            "          97       0.00      0.00      0.00         0\n",
            "          98       0.00      0.00      0.00         1\n",
            "\n",
            "    accuracy                           0.05        40\n",
            "   macro avg       0.02      0.04      0.02        40\n",
            "weighted avg       0.03      0.05      0.03        40\n",
            "\n",
            "Confusion Matrix:\n",
            " [[0 0 0 ... 0 0 0]\n",
            " [0 0 0 ... 0 0 0]\n",
            " [0 0 0 ... 0 0 0]\n",
            " ...\n",
            " [0 0 0 ... 0 0 0]\n",
            " [0 0 0 ... 0 0 0]\n",
            " [0 0 0 ... 0 0 0]]\n",
            "\n",
            "=== Support Vector Machine ===\n",
            "Accuracy: 0.0\n",
            "Classification Report:\n",
            "               precision    recall  f1-score   support\n",
            "\n",
            "          50       0.00      0.00      0.00       1.0\n",
            "          52       0.00      0.00      0.00       1.0\n",
            "          53       0.00      0.00      0.00       1.0\n",
            "          54       0.00      0.00      0.00       0.0\n",
            "          57       0.00      0.00      0.00       1.0\n",
            "          58       0.00      0.00      0.00       2.0\n",
            "          60       0.00      0.00      0.00       1.0\n",
            "          61       0.00      0.00      0.00       0.0\n",
            "          62       0.00      0.00      0.00       3.0\n",
            "          63       0.00      0.00      0.00       1.0\n",
            "          64       0.00      0.00      0.00       1.0\n",
            "          66       0.00      0.00      0.00       0.0\n",
            "          67       0.00      0.00      0.00       4.0\n",
            "          68       0.00      0.00      0.00       0.0\n",
            "          70       0.00      0.00      0.00       1.0\n",
            "          72       0.00      0.00      0.00       1.0\n",
            "          73       0.00      0.00      0.00       3.0\n",
            "          74       0.00      0.00      0.00       5.0\n",
            "          75       0.00      0.00      0.00       2.0\n",
            "          76       0.00      0.00      0.00       1.0\n",
            "          77       0.00      0.00      0.00       0.0\n",
            "          79       0.00      0.00      0.00       1.0\n",
            "          82       0.00      0.00      0.00       1.0\n",
            "          83       0.00      0.00      0.00       1.0\n",
            "          84       0.00      0.00      0.00       1.0\n",
            "          86       0.00      0.00      0.00       1.0\n",
            "          90       0.00      0.00      0.00       1.0\n",
            "          92       0.00      0.00      0.00       2.0\n",
            "          94       0.00      0.00      0.00       1.0\n",
            "          95       0.00      0.00      0.00       1.0\n",
            "          97       0.00      0.00      0.00       0.0\n",
            "          98       0.00      0.00      0.00       1.0\n",
            "\n",
            "    accuracy                           0.00      40.0\n",
            "   macro avg       0.00      0.00      0.00      40.0\n",
            "weighted avg       0.00      0.00      0.00      40.0\n",
            "\n",
            "Confusion Matrix:\n",
            " [[0 0 0 ... 0 1 0]\n",
            " [0 0 0 ... 0 0 0]\n",
            " [0 0 0 ... 0 0 0]\n",
            " ...\n",
            " [0 0 0 ... 0 0 0]\n",
            " [0 0 0 ... 0 0 0]\n",
            " [0 0 0 ... 0 1 0]]\n"
          ]
        },
        {
          "output_type": "stream",
          "name": "stderr",
          "text": [
            "/usr/local/lib/python3.11/dist-packages/sklearn/metrics/_classification.py:1565: UndefinedMetricWarning: Precision is ill-defined and being set to 0.0 in labels with no predicted samples. Use `zero_division` parameter to control this behavior.\n",
            "  _warn_prf(average, modifier, f\"{metric.capitalize()} is\", len(result))\n",
            "/usr/local/lib/python3.11/dist-packages/sklearn/metrics/_classification.py:1565: UndefinedMetricWarning: Recall is ill-defined and being set to 0.0 in labels with no true samples. Use `zero_division` parameter to control this behavior.\n",
            "  _warn_prf(average, modifier, f\"{metric.capitalize()} is\", len(result))\n",
            "/usr/local/lib/python3.11/dist-packages/sklearn/metrics/_classification.py:1565: UndefinedMetricWarning: Precision is ill-defined and being set to 0.0 in labels with no predicted samples. Use `zero_division` parameter to control this behavior.\n",
            "  _warn_prf(average, modifier, f\"{metric.capitalize()} is\", len(result))\n",
            "/usr/local/lib/python3.11/dist-packages/sklearn/metrics/_classification.py:1565: UndefinedMetricWarning: Recall is ill-defined and being set to 0.0 in labels with no true samples. Use `zero_division` parameter to control this behavior.\n",
            "  _warn_prf(average, modifier, f\"{metric.capitalize()} is\", len(result))\n",
            "/usr/local/lib/python3.11/dist-packages/sklearn/metrics/_classification.py:1565: UndefinedMetricWarning: Precision is ill-defined and being set to 0.0 in labels with no predicted samples. Use `zero_division` parameter to control this behavior.\n",
            "  _warn_prf(average, modifier, f\"{metric.capitalize()} is\", len(result))\n",
            "/usr/local/lib/python3.11/dist-packages/sklearn/metrics/_classification.py:1565: UndefinedMetricWarning: Recall is ill-defined and being set to 0.0 in labels with no true samples. Use `zero_division` parameter to control this behavior.\n",
            "  _warn_prf(average, modifier, f\"{metric.capitalize()} is\", len(result))\n",
            "/usr/local/lib/python3.11/dist-packages/sklearn/metrics/_classification.py:1565: UndefinedMetricWarning: Precision is ill-defined and being set to 0.0 in labels with no predicted samples. Use `zero_division` parameter to control this behavior.\n",
            "  _warn_prf(average, modifier, f\"{metric.capitalize()} is\", len(result))\n",
            "/usr/local/lib/python3.11/dist-packages/sklearn/metrics/_classification.py:1565: UndefinedMetricWarning: Recall is ill-defined and being set to 0.0 in labels with no true samples. Use `zero_division` parameter to control this behavior.\n",
            "  _warn_prf(average, modifier, f\"{metric.capitalize()} is\", len(result))\n",
            "/usr/local/lib/python3.11/dist-packages/sklearn/metrics/_classification.py:1565: UndefinedMetricWarning: Precision is ill-defined and being set to 0.0 in labels with no predicted samples. Use `zero_division` parameter to control this behavior.\n",
            "  _warn_prf(average, modifier, f\"{metric.capitalize()} is\", len(result))\n",
            "/usr/local/lib/python3.11/dist-packages/sklearn/metrics/_classification.py:1565: UndefinedMetricWarning: Recall is ill-defined and being set to 0.0 in labels with no true samples. Use `zero_division` parameter to control this behavior.\n",
            "  _warn_prf(average, modifier, f\"{metric.capitalize()} is\", len(result))\n",
            "/usr/local/lib/python3.11/dist-packages/sklearn/metrics/_classification.py:1565: UndefinedMetricWarning: Precision is ill-defined and being set to 0.0 in labels with no predicted samples. Use `zero_division` parameter to control this behavior.\n",
            "  _warn_prf(average, modifier, f\"{metric.capitalize()} is\", len(result))\n",
            "/usr/local/lib/python3.11/dist-packages/sklearn/metrics/_classification.py:1565: UndefinedMetricWarning: Recall is ill-defined and being set to 0.0 in labels with no true samples. Use `zero_division` parameter to control this behavior.\n",
            "  _warn_prf(average, modifier, f\"{metric.capitalize()} is\", len(result))\n",
            "/usr/local/lib/python3.11/dist-packages/sklearn/metrics/_classification.py:1565: UndefinedMetricWarning: Precision is ill-defined and being set to 0.0 in labels with no predicted samples. Use `zero_division` parameter to control this behavior.\n",
            "  _warn_prf(average, modifier, f\"{metric.capitalize()} is\", len(result))\n",
            "/usr/local/lib/python3.11/dist-packages/sklearn/metrics/_classification.py:1565: UndefinedMetricWarning: Recall is ill-defined and being set to 0.0 in labels with no true samples. Use `zero_division` parameter to control this behavior.\n",
            "  _warn_prf(average, modifier, f\"{metric.capitalize()} is\", len(result))\n",
            "/usr/local/lib/python3.11/dist-packages/sklearn/metrics/_classification.py:1565: UndefinedMetricWarning: Precision is ill-defined and being set to 0.0 in labels with no predicted samples. Use `zero_division` parameter to control this behavior.\n",
            "  _warn_prf(average, modifier, f\"{metric.capitalize()} is\", len(result))\n",
            "/usr/local/lib/python3.11/dist-packages/sklearn/metrics/_classification.py:1565: UndefinedMetricWarning: Recall is ill-defined and being set to 0.0 in labels with no true samples. Use `zero_division` parameter to control this behavior.\n",
            "  _warn_prf(average, modifier, f\"{metric.capitalize()} is\", len(result))\n",
            "/usr/local/lib/python3.11/dist-packages/sklearn/metrics/_classification.py:1565: UndefinedMetricWarning: Precision is ill-defined and being set to 0.0 in labels with no predicted samples. Use `zero_division` parameter to control this behavior.\n",
            "  _warn_prf(average, modifier, f\"{metric.capitalize()} is\", len(result))\n",
            "/usr/local/lib/python3.11/dist-packages/sklearn/metrics/_classification.py:1565: UndefinedMetricWarning: Recall is ill-defined and being set to 0.0 in labels with no true samples. Use `zero_division` parameter to control this behavior.\n",
            "  _warn_prf(average, modifier, f\"{metric.capitalize()} is\", len(result))\n"
          ]
        }
      ]
    },
    {
      "cell_type": "code",
      "source": [
        "plt.figure(figsize=(8, 5))\n",
        "sns.barplot(x=list(results.keys()), y=list(results.values()))\n",
        "plt.title(\"Model Accuracy Comparison\")\n",
        "plt.ylabel(\"Accuracy\")\n",
        "plt.xticks(rotation=45)\n",
        "plt.ylim(0, 1)\n",
        "plt.grid(axis='y')\n",
        "plt.show()"
      ],
      "metadata": {
        "colab": {
          "base_uri": "https://localhost:8080/",
          "height": 581
        },
        "id": "kDK43Y7peyrr",
        "outputId": "7a2ca33e-ff02-46c3-e79b-2a6b245129d3"
      },
      "execution_count": null,
      "outputs": [
        {
          "output_type": "display_data",
          "data": {
            "text/plain": [
              "<Figure size 800x500 with 1 Axes>"
            ],
            "image/png": "[encoded data removed]"
          },
          "metadata": {}
        }
      ]
    }
  ]
}