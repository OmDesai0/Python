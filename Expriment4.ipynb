{
  "nbformat": 4,
  "nbformat_minor": 0,
  "metadata": {
    "colab": {
      "provenance": [],
      "authorship_tag": "ABX9TyM38Yq8f+5IdGjfoo54KlSL",
      "include_colab_link": true
    },
    "kernelspec": {
      "name": "python3",
      "display_name": "Python 3"
    },
    "language_info": {
      "name": "python"
    }
  },
  "cells": [
    {
      "cell_type": "markdown",
      "metadata": {
        "id": "view-in-github",
        "colab_type": "text"
      },
      "source": [
        "<a href=\"https://colab.research.google.com/github/OmDesai0/Python/blob/main/Assignment4.ipynb\" target=\"_parent\"><img src=\"https://colab.research.google.com/assets/colab-badge.svg\" alt=\"Open In Colab\"/></a>"
      ]
    },
    {
      "cell_type": "code",
      "execution_count": null,
      "metadata": {
        "id": "eoGURl2wQfLT"
      },
      "outputs": [],
      "source": [
        "# Creating & Accesing List\n",
        "my_list = [1, 2, 3, 4, 5]  # Creating the list\n",
        "print(my_list)\n",
        "print(my_list[0])   # Accessing the list\n",
        "print(my_list[-1])  # Accessing the list using negative index\n",
        "print(my_list[1:4]) # Accessing the list by slicing\n",
        "\n",
        "#Updating List\n",
        "#Adding Elements\n",
        "my_list.append(6)       # Adds an item at the end\n",
        "my_list.insert(2, 10)   # Inserts 10 at index 2\n",
        "my_list.extend([7, 8])  # Adds multiple items\n",
        "\n",
        "#Removing Elements\n",
        "my_list.remove(3)  # Removes first occurrence of 3\n",
        "my_list.pop(2)     # Removes item at index 2\n",
        "del my_list[1]     # Deletes item at index 1\n",
        "\n",
        "\n",
        "\n"
      ]
    },
    {
      "cell_type": "code",
      "source": [
        "my_list = [1,2,3,4,5,6,7,8,9,10]\n",
        "even_numbers = [num for num in my_list if num % 2 == 0]\n",
        "print(even_numbers)"
      ],
      "metadata": {
        "id": "9PxriJkRQsD6"
      },
      "execution_count": null,
      "outputs": []
    },
    {
      "cell_type": "code",
      "source": [
        "list1 = [1,2,3,4,5]\n",
        "list2 = [4,5,6,7,8]\n",
        "common_elements = [num for num in list1 if num in list2]\n",
        "print(\"Common Elemnts: \", common_elements)"
      ],
      "metadata": {
        "id": "ymmhH8_sQuwP"
      },
      "execution_count": null,
      "outputs": []
    },
    {
      "cell_type": "code",
      "source": [
        "my_list = [1,2,3,4,5]\n",
        "element = 7\n",
        "\n",
        "if element in my_list:\n",
        "  print(f\"{element} is present in list.\")\n",
        "else:\n",
        "  print(f\"{element} is not present in list.\")"
      ],
      "metadata": {
        "id": "tnpetzgkQyMM"
      },
      "execution_count": null,
      "outputs": []
    }
  ]
}
