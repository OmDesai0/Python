{
  "nbformat": 4,
  "nbformat_minor": 0,
  "metadata": {
    "colab": {
      "provenance": [],
      "authorship_tag": "ABX9TyPo8+uxaRt1p3HCYvlOnNd3",
      "include_colab_link": true
    },
    "kernelspec": {
      "name": "python3",
      "display_name": "Python 3"
    },
    "language_info": {
      "name": "python"
    }
  },
  "cells": [
    {
      "cell_type": "markdown",
      "metadata": {
        "id": "view-in-github",
        "colab_type": "text"
      },
      "source": [
        "<a href=\"https://colab.research.google.com/github/OmDesai0/Python/blob/main/Expriment3.ipynb\" target=\"_parent\"><img src=\"https://colab.research.google.com/assets/colab-badge.svg\" alt=\"Open In Colab\"/></a>"
      ]
    },
    {
      "cell_type": "code",
      "execution_count": null,
      "metadata": {
        "id": "zVTFmD4gZfnh"
      },
      "outputs": [],
      "source": [
        "def reverse_number(n):\n",
        "    reversed_num = 0\n",
        "    while n > 0:\n",
        "        digit = n % 10\n",
        "        reversed_num = reversed_num * 10 + digit\n",
        "        n //= 10\n",
        "    return reversed_num\n",
        "\n",
        "# Example usage\n",
        "num = int(input(\"Enter a number: \"))\n",
        "print(\"Reversed number:\", reverse_number(num))"
      ]
    },
    {
      "cell_type": "code",
      "source": [
        "num = 2\n",
        "while num <= 100:\n",
        "    print(num, end=\" \")\n",
        "    num += 2"
      ],
      "metadata": {
        "id": "P4FHHLe4Zvxd"
      },
      "execution_count": null,
      "outputs": []
    },
    {
      "cell_type": "code",
      "source": [
        "n = 5\n",
        "\n",
        "\n",
        "for i in range(1, n+1, 2):\n",
        "\n",
        "    print(' ' * ((n - i) // 2), end='')\n",
        "\n",
        "    print('*' * i)\n",
        "\n",
        "\n",
        "for i in range(n-2, 0, -2):\n",
        "\n",
        "    print(' ' * ((n - i) // 2), end='')\n",
        "\n",
        "    print('*' * i)"
      ],
      "metadata": {
        "id": "kc1o0neQZwZq"
      },
      "execution_count": null,
      "outputs": []
    }
  ]
}