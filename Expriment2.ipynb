{
  "nbformat": 4,
  "nbformat_minor": 0,
  "metadata": {
    "colab": {
      "provenance": [],
      "authorship_tag": "ABX9TyPnw2Sli4Y3iGryUs1bqG0u",
      "include_colab_link": true
    },
    "kernelspec": {
      "name": "python3",
      "display_name": "Python 3"
    },
    "language_info": {
      "name": "python"
    }
  },
  "cells": [
    {
      "cell_type": "markdown",
      "metadata": {
        "id": "view-in-github",
        "colab_type": "text"
      },
      "source": [
        "<a href=\"https://colab.research.google.com/github/OmDesai0/Python/blob/main/Expriment2.ipynb\" target=\"_parent\"><img src=\"https://colab.research.google.com/assets/colab-badge.svg\" alt=\"Open In Colab\"/></a>"
      ]
    },
    {
      "cell_type": "code",
      "execution_count": 1,
      "metadata": {
        "colab": {
          "base_uri": "https://localhost:8080/"
        },
        "id": "Uz6G1VJDUouQ",
        "outputId": "e6bb25f8-3aca-44dc-d749-9aff9a08033c"
      },
      "outputs": [
        {
          "output_type": "stream",
          "name": "stdout",
          "text": [
            "Enter a year: 2024\n",
            "2024 is a leap year.\n"
          ]
        }
      ],
      "source": [
        "year = int(input(\"Enter a year: \"))\n",
        "\n",
        "if year % 4 == 0 and (year % 100 != 0 or year % 400 == 0):\n",
        "    print(f\"{year} is a leap year.\")\n",
        "else:\n",
        "    print(f\"{year} is not a leap year.\")\n"
      ]
    },
    {
      "cell_type": "code",
      "source": [
        "marks = []\n",
        "\n",
        "for i in range(1, 6):\n",
        "    mark = float(input(f\"Enter marks for subject {i}: \"))\n",
        "    marks.append(mark)\n",
        "\n",
        "average = sum(marks) / 5\n",
        "\n",
        "if average >= 90:\n",
        "    grade = \"A\"\n",
        "elif average >= 80:\n",
        "    grade = \"B\"\n",
        "elif average >= 70:\n",
        "    grade = \"C\"\n",
        "elif average >= 60:\n",
        "    grade = \"D\"\n",
        "elif average >= 50:\n",
        "    grade = \"E\"\n",
        "else:\n",
        "    grade = \"F\"\n",
        "\n",
        "print(f\"Your average marks: {average:.2f}\")\n",
        "print(f\"Your grade: {grade}\")"
      ],
      "metadata": {
        "id": "6VY5YxI8Uvbb"
      },
      "execution_count": null,
      "outputs": []
    },
    {
      "cell_type": "code",
      "source": [
        "num = float(input(\"Enter a number: \"))\n",
        "print(f\"The square root of {num} is {num ** 0.5:.2f}\")\n"
      ],
      "metadata": {
        "id": "RAKD_eYyU2xm"
      },
      "execution_count": null,
      "outputs": []
    },
    {
      "cell_type": "code",
      "source": [
        "a = float(input(\"Enter first number: \"))\n",
        "b = float(input(\"Enter second number: \"))\n",
        "c = float(input(\"Enter third number: \"))\n",
        "\n",
        "largest = max(a, b, c)\n",
        "\n",
        "print(f\"The largest number is {largest}\")\n"
      ],
      "metadata": {
        "id": "Cz-h2e8qVBdD"
      },
      "execution_count": null,
      "outputs": []
    },
    {
      "cell_type": "code",
      "source": [
        "num = float(input(\"Enter a number: \"))\n",
        "\n",
        "if num > 0:\n",
        "    print(\"The number is positive.\")\n",
        "elif num < 0:\n",
        "    print(\"The number is negative.\")\n",
        "else:\n",
        "    print(\"The number is zero.\")\n"
      ],
      "metadata": {
        "id": "PllVq2qfVCnO"
      },
      "execution_count": null,
      "outputs": []
    }
  ]
}