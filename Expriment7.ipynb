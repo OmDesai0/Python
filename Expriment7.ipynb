{
  "nbformat": 4,
  "nbformat_minor": 0,
  "metadata": {
    "colab": {
      "provenance": [],
      "authorship_tag": "ABX9TyMsL27vrft1D2wsKuflBCAf",
      "include_colab_link": true
    },
    "kernelspec": {
      "name": "python3",
      "display_name": "Python 3"
    },
    "language_info": {
      "name": "python"
    }
  },
  "cells": [
    {
      "cell_type": "markdown",
      "metadata": {
        "id": "view-in-github",
        "colab_type": "text"
      },
      "source": [
        "<a href=\"https://colab.research.google.com/github/OmDesai0/Python/blob/main/Expriment7.ipynb\" target=\"_parent\"><img src=\"https://colab.research.google.com/assets/colab-badge.svg\" alt=\"Open In Colab\"/></a>"
      ]
    },
    {
      "cell_type": "code",
      "execution_count": null,
      "metadata": {
        "colab": {
          "base_uri": "https://localhost:8080/"
        },
        "id": "ltBkXGzYp31Q",
        "outputId": "03301a23-69fa-4297-e701-7f5f44d2a159"
      },
      "outputs": [
        {
          "output_type": "stream",
          "name": "stdout",
          "text": [
            "{1, 2, 3, 4, 5}\n",
            "1\n",
            "2\n",
            "3\n",
            "4\n",
            "5\n",
            "{1, 2, 3, 4, 5, 6, 7, 8, 9}\n",
            "{1, 2, 4, 5, 6, 7, 8, 9}\n"
          ]
        }
      ],
      "source": [
        "my_set={1,2,3,4,5}\n",
        "print(my_set)\n",
        "for item in my_set:\n",
        "  print(item)\n",
        "my_set.add(6)\n",
        "my_set.update([7,8,9])\n",
        "print(my_set)\n",
        "my_set.remove(3)\n",
        "my_set.discard(10)\n",
        "print(my_set)\n",
        "del my_set"
      ]
    },
    {
      "cell_type": "code",
      "source": [
        "A={1,2,3,4,5}\n",
        "B={4,5,6,7,8}\n",
        "print(\"Insertion:\",A&B)\n",
        "print(\"Union:\",A|B)\n",
        "print(\"Difference(A-B):\",A-B)\n",
        "print(\"Symmetric Difference:\",A^B)\n",
        "A.clear()\n",
        "print(\"Set after clear:\",A)"
      ],
      "metadata": {
        "colab": {
          "base_uri": "https://localhost:8080/"
        },
        "id": "BNhH-w_4p9fp",
        "outputId": "064c51a9-4bbc-46f0-ed86-998412e8df49"
      },
      "execution_count": null,
      "outputs": [
        {
          "output_type": "stream",
          "name": "stdout",
          "text": [
            "Insertion: {4, 5}\n",
            "Union: {1, 2, 3, 4, 5, 6, 7, 8}\n",
            "Difference(A-B): {1, 2, 3}\n",
            "Symmetric Difference: {1, 2, 3, 6, 7, 8}\n",
            "Set after clear: set()\n"
          ]
        }
      ]
    },
    {
      "cell_type": "code",
      "source": [
        "set1={10,20,30}\n",
        "set1.add(40)\n",
        "set1.update([50,60])\n",
        "print(set1)\n",
        "set1.remove(30)\n",
        "print(set1)"
      ],
      "metadata": {
        "colab": {
          "base_uri": "https://localhost:8080/"
        },
        "id": "GYgl29HkqCpf",
        "outputId": "e33298b3-285c-4197-8841-16448ef88eb6"
      },
      "execution_count": null,
      "outputs": [
        {
          "output_type": "stream",
          "name": "stdout",
          "text": [
            "{40, 10, 50, 20, 60, 30}\n",
            "{40, 10, 50, 20, 60}\n"
          ]
        }
      ]
    },
    {
      "cell_type": "code",
      "source": [
        "A={1,2,3,4,5}\n",
        "B={3,4,6,5,7}\n",
        "diff=A-B\n",
        "print(diff)"
      ],
      "metadata": {
        "colab": {
          "base_uri": "https://localhost:8080/"
        },
        "id": "HKolx-AZqFg6",
        "outputId": "630ad469-651c-4718-c1f4-959b744f1d1d"
      },
      "execution_count": null,
      "outputs": [
        {
          "output_type": "stream",
          "name": "stdout",
          "text": [
            "{1, 2}\n"
          ]
        }
      ]
    },
    {
      "cell_type": "code",
      "source": [
        "String=\"hello!\"\n",
        "str_set=set(String)\n",
        "print(str_set)"
      ],
      "metadata": {
        "id": "_bOuWp3NqPcC",
        "outputId": "e6473194-e6b3-4342-d38f-c9f3f3f74066",
        "colab": {
          "base_uri": "https://localhost:8080/"
        }
      },
      "execution_count": null,
      "outputs": [
        {
          "output_type": "stream",
          "name": "stdout",
          "text": [
            "{'o', 'e', 'l', '!', 'h'}\n"
          ]
        }
      ]
    },
    {
      "cell_type": "code",
      "source": [
        "set1={1,2,3,4}\n",
        "set2={3,4,5,6}\n",
        "common=set1&set2\n",
        "if common:\n",
        "  print(\"Sets have common elements:\",common)\n",
        "else:\n",
        "  print(\"No common element\")"
      ],
      "metadata": {
        "id": "Yp3UrVJrqVUZ",
        "outputId": "dce19163-10ea-4918-b261-4169f4aed00f",
        "colab": {
          "base_uri": "https://localhost:8080/"
        }
      },
      "execution_count": null,
      "outputs": [
        {
          "output_type": "stream",
          "name": "stdout",
          "text": [
            "Sets have common elements: {3, 4}\n"
          ]
        }
      ]
    }
  ]
}