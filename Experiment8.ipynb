{
  "nbformat": 4,
  "nbformat_minor": 0,
  "metadata": {
    "colab": {
      "provenance": [],
      "authorship_tag": "ABX9TyPrnOkq5+bKvjQ2KLgIVG4a",
      "include_colab_link": true
    },
    "kernelspec": {
      "name": "python3",
      "display_name": "Python 3"
    },
    "language_info": {
      "name": "python"
    }
  },
  "cells": [
    {
      "cell_type": "markdown",
      "metadata": {
        "id": "view-in-github",
        "colab_type": "text"
      },
      "source": [
        "<a href=\"https://colab.research.google.com/github/OmDesai0/Python/blob/main/Experiment8.ipynb\" target=\"_parent\"><img src=\"https://colab.research.google.com/assets/colab-badge.svg\" alt=\"Open In Colab\"/></a>"
      ]
    },
    {
      "cell_type": "code",
      "execution_count": null,
      "metadata": {
        "colab": {
          "base_uri": "https://localhost:8080/"
        },
        "id": "_ABMsvsJp-Q1",
        "outputId": "f4a49d06-e132-4a4d-b488-2f13a68b9a88"
      },
      "outputs": [
        {
          "output_type": "stream",
          "name": "stdout",
          "text": [
            "8\n"
          ]
        }
      ],
      "source": [
        "#Code 1:\n",
        "def add(a,b):\n",
        "  return a+b\n",
        "result=add(3,5)\n",
        "print(result)"
      ]
    },
    {
      "cell_type": "code",
      "source": [
        "#Code 2:\n",
        "def greet(name):\n",
        "  print(\"Hello, \"+name)\n",
        "greet(\"Noor\")"
      ],
      "metadata": {
        "colab": {
          "base_uri": "https://localhost:8080/"
        },
        "id": "Uyfh-wyQqFqu",
        "outputId": "72ee6cb7-8ec7-4d0d-a6a2-f7c5d107a973"
      },
      "execution_count": null,
      "outputs": [
        {
          "output_type": "stream",
          "name": "stdout",
          "text": [
            "Hello, Noor\n"
          ]
        }
      ]
    },
    {
      "cell_type": "code",
      "source": [
        "#Code 3:\n",
        "creating a module('mymodule.py'):\n",
        "def greet(name):\n",
        "  return f{\"Hello, {name}!\"}\n",
        "\n",
        "#using module in another script('main py'):\n",
        "import mymodule\n",
        "print(mymodule.great(\"Alice\"))"
      ],
      "metadata": {
        "id": "HfQyBjyMqdu-"
      },
      "execution_count": null,
      "outputs": []
    },
    {
      "cell_type": "code",
      "source": [
        "#Code 4:\n",
        "#Reverse Program:-\n",
        "def reverse_no(n):\n",
        "  return int (str(n)[::-1])\n",
        "num=int(input(\"Enter a number:\"))\n",
        "print(\"Reversed number:\",reverse_no(num))"
      ],
      "metadata": {
        "colab": {
          "base_uri": "https://localhost:8080/"
        },
        "id": "sMrDwcbSr1Lq",
        "outputId": "741fea33-8d9c-47e1-98d9-0eda658904f7"
      },
      "execution_count": null,
      "outputs": [
        {
          "output_type": "stream",
          "name": "stdout",
          "text": [
            "Enter a number:42\n",
            "Reversed number: 24\n"
          ]
        }
      ]
    }
  ]
}