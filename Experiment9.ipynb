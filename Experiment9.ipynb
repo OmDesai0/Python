{
  "nbformat": 4,
  "nbformat_minor": 0,
  "metadata": {
    "colab": {
      "provenance": [],
      "authorship_tag": "ABX9TyP+Tu//yyTZjpzBiJtXA4xU",
      "include_colab_link": true
    },
    "kernelspec": {
      "name": "python3",
      "display_name": "Python 3"
    },
    "language_info": {
      "name": "python"
    }
  },
  "cells": [
    {
      "cell_type": "markdown",
      "metadata": {
        "id": "view-in-github",
        "colab_type": "text"
      },
      "source": [
        "<a href=\"https://colab.research.google.com/github/OmDesai0/Python/blob/main/Experiment9.ipynb\" target=\"_parent\"><img src=\"https://colab.research.google.com/assets/colab-badge.svg\" alt=\"Open In Colab\"/></a>"
      ]
    },
    {
      "cell_type": "code",
      "execution_count": null,
      "metadata": {
        "colab": {
          "base_uri": "https://localhost:8080/"
        },
        "id": "aNGG1nDqvZPP",
        "outputId": "a650a1c0-b4c7-444f-dd6b-c57f6ed6e7fb"
      },
      "outputs": [
        {
          "output_type": "stream",
          "name": "stdout",
          "text": [
            "Name: Ruby\n",
            "Ruby is singing\n"
          ]
        }
      ],
      "source": [
        "#Single Inheritance\n",
        "\n",
        "# Base class\n",
        "class Person:\n",
        "    def __init__(self, name):\n",
        "        self.name = name\n",
        "\n",
        "    def display_name(self):\n",
        "        print(f\"Name: {self.name}\")\n",
        "\n",
        "# Derived class\n",
        "class Student(Person):\n",
        "    def study(self):\n",
        "        print(f\"{self.name} is singing\")\n",
        "\n",
        "student = Student(\"Ruby\")\n",
        "student.display_name()  # Inherited method\n",
        "student.study()         # Derived class method\n"
      ]
    },
    {
      "cell_type": "code",
      "source": [
        "#Multiple Inheritance\n",
        "\n",
        "# Base classes\n",
        "class Person:\n",
        "    def __init__(self, name):\n",
        "        self.name = name\n",
        "\n",
        "class Course:\n",
        "    def __init__(self, course_name):\n",
        "        self.course_name = course_name\n",
        "\n",
        "# Derived class\n",
        "class CourseStudent(Person, Course):\n",
        "    def __init__(self, name, course_name):\n",
        "        Person.__init__(self, name)\n",
        "        Course.__init__(self, course_name)\n",
        "\n",
        "    def enroll(self):\n",
        "        print(f\"{self.name} has enrolled in {self.course_name}\")\n",
        "\n",
        "# Example Usage\n",
        "student = CourseStudent(\"Rohan\", \"Python Programming!\")\n",
        "student.enroll()  # Method from CourseStudent\n"
      ],
      "metadata": {
        "colab": {
          "base_uri": "https://localhost:8080/"
        },
        "id": "B8MO3zD-vgdV",
        "outputId": "f0106142-75f6-4278-db96-39d40c7efdfc"
      },
      "execution_count": null,
      "outputs": [
        {
          "output_type": "stream",
          "name": "stdout",
          "text": [
            "Rohan has enrolled in Python Programming!\n"
          ]
        }
      ]
    },
    {
      "cell_type": "code",
      "source": [
        "#Multi-level Inheritance\n",
        "\n",
        "# Base class\n",
        "class University:\n",
        "    def __init__(self, name):\n",
        "        self.name = name\n",
        "\n",
        "    def display_university(self):\n",
        "        print(f\"University: {self.name}\")\n",
        "\n",
        "# Derived class\n",
        "class Department(University):\n",
        "    def __init__(self, name, department_name):\n",
        "        super().__init__(name)\n",
        "        self.department_name = department_name\n",
        "\n",
        "    def display_department(self):\n",
        "        print(f\"Department: {self.department_name}\")\n",
        "\n",
        "# Further derived class\n",
        "class Student(Department):\n",
        "    def __init__(self, name, department_name, student_name):\n",
        "        super().__init__(name, department_name)\n",
        "        self.student_name = student_name\n",
        "\n",
        "    def display_student(self):\n",
        "        print(f\"Student: {self.student_name}\")\n",
        "\n",
        "# Example Usage\n",
        "student = Student(\"Symbiosis\", \"Arts\", \"Tina\")\n",
        "student.display_university()  # Method from University\n",
        "student.display_department()  # Method from Department\n",
        "student.display_student()     # Method from Student"
      ],
      "metadata": {
        "id": "XNoh8Rj6wXJl",
        "outputId": "fc8ec30f-9c90-424d-dcfa-3bbfb198da6f",
        "colab": {
          "base_uri": "https://localhost:8080/"
        }
      },
      "execution_count": null,
      "outputs": [
        {
          "output_type": "stream",
          "name": "stdout",
          "text": [
            "University: Symbiosis\n",
            "Department: Arts\n",
            "Student: Tina\n"
          ]
        }
      ]
    }
  ]
}